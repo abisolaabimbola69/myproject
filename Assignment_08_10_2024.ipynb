{
  "nbformat": 4,
  "nbformat_minor": 0,
  "metadata": {
    "colab": {
      "provenance": [],
      "authorship_tag": "ABX9TyPvGsvAhMYbngGcNNNTurvR",
      "include_colab_link": true
    },
    "kernelspec": {
      "name": "python3",
      "display_name": "Python 3"
    },
    "language_info": {
      "name": "python"
    }
  },
  "cells": [
    {
      "cell_type": "markdown",
      "metadata": {
        "id": "view-in-github",
        "colab_type": "text"
      },
      "source": [
        "<a href=\"https://colab.research.google.com/github/abisolaabimbola69/myproject/blob/main/Assignment_08_10_2024.ipynb\" target=\"_parent\"><img src=\"https://colab.research.google.com/assets/colab-badge.svg\" alt=\"Open In Colab\"/></a>"
      ]
    },
    {
      "cell_type": "code",
      "execution_count": null,
      "metadata": {
        "id": "HUnNjrtwyuFv"
      },
      "outputs": [],
      "source": []
    },
    {
      "cell_type": "markdown",
      "source": [
        "1.  Create 30 formulas in R language\n",
        "2.  Create 10 different variables of your choice"
      ],
      "metadata": {
        "id": "kSk7cXS0zcLs"
      }
    },
    {
      "cell_type": "markdown",
      "source": [
        "**Simple interest**"
      ],
      "metadata": {
        "id": "yHlJ8Ycp2StV"
      }
    },
    {
      "cell_type": "code",
      "source": [
        "P = 1000\n",
        "R = 17\n",
        "t = 5\n",
        "SI = P*R*t/100\n",
        "print(SI)\n"
      ],
      "metadata": {
        "colab": {
          "base_uri": "https://localhost:8080/"
        },
        "id": "Qscfx94B0nQ7",
        "outputId": "7ed4d680-9474-485b-cabd-a406f3479e74"
      },
      "execution_count": null,
      "outputs": [
        {
          "output_type": "stream",
          "name": "stdout",
          "text": [
            "850.0\n"
          ]
        }
      ]
    },
    {
      "cell_type": "markdown",
      "source": [
        "**Newton's Second Law of Motion**"
      ],
      "metadata": {
        "id": "NxOJs8rq2sO4"
      }
    },
    {
      "cell_type": "code",
      "source": [
        "m = 10\n",
        "a = 20\n",
        "F = m*a\n",
        "print(F)"
      ],
      "metadata": {
        "colab": {
          "base_uri": "https://localhost:8080/"
        },
        "id": "waKwFT_D2tTC",
        "outputId": "c4c3d931-6f83-4359-8084-0dea19109dee"
      },
      "execution_count": null,
      "outputs": [
        {
          "output_type": "stream",
          "name": "stdout",
          "text": [
            "200\n"
          ]
        }
      ]
    },
    {
      "cell_type": "markdown",
      "source": [
        "**Area of a Triangle**"
      ],
      "metadata": {
        "id": "woPK8Nwp25gr"
      }
    },
    {
      "cell_type": "code",
      "source": [
        "b = 10\n",
        "h = 20\n",
        "Area = 0.5*b*h\n",
        "print(Area)"
      ],
      "metadata": {
        "colab": {
          "base_uri": "https://localhost:8080/"
        },
        "id": "lYeTFyXk27_8",
        "outputId": "003fe294-2feb-4b07-9b97-434c27f5fc52"
      },
      "execution_count": null,
      "outputs": [
        {
          "output_type": "stream",
          "name": "stdout",
          "text": [
            "100.0\n"
          ]
        }
      ]
    },
    {
      "cell_type": "markdown",
      "source": [
        "**Area of a Circle**"
      ],
      "metadata": {
        "id": "XYg26oev3H_c"
      }
    },
    {
      "cell_type": "code",
      "source": [
        "r = 10\n",
        "Area = 3.14*r*r\n",
        "print(Area)"
      ],
      "metadata": {
        "colab": {
          "base_uri": "https://localhost:8080/"
        },
        "id": "-FTtG8YA3KGN",
        "outputId": "203f3d05-3daf-43de-8504-8f3fb0f08968"
      },
      "execution_count": null,
      "outputs": [
        {
          "output_type": "stream",
          "name": "stdout",
          "text": [
            "314.0\n"
          ]
        }
      ]
    },
    {
      "cell_type": "markdown",
      "source": [
        "**Pythagorean Theorem**"
      ],
      "metadata": {
        "id": "1REc8mcz3c6Q"
      }
    },
    {
      "cell_type": "code",
      "source": [
        "a = 10\n",
        "b = 20\n",
        "c = a*a + b*b\n",
        "print(c)"
      ],
      "metadata": {
        "colab": {
          "base_uri": "https://localhost:8080/"
        },
        "id": "Ba5aWD4F3eMz",
        "outputId": "ff6ab15a-7c8a-4625-b368-d1d63d0f26c2"
      },
      "execution_count": null,
      "outputs": [
        {
          "output_type": "stream",
          "name": "stdout",
          "text": [
            "500\n"
          ]
        }
      ]
    },
    {
      "cell_type": "markdown",
      "source": [
        "**Circumference of a Circle**"
      ],
      "metadata": {
        "id": "vQCh8TTs3xOD"
      }
    },
    {
      "cell_type": "code",
      "source": [
        "r = 10\n",
        "c = 2*3.14*r\n",
        "print(c)"
      ],
      "metadata": {
        "colab": {
          "base_uri": "https://localhost:8080/"
        },
        "id": "5w48T_U44AIg",
        "outputId": "8462e604-96eb-4bd0-bacd-66d9bc666cb2"
      },
      "execution_count": null,
      "outputs": [
        {
          "output_type": "stream",
          "name": "stdout",
          "text": [
            "62.800000000000004\n"
          ]
        }
      ]
    },
    {
      "cell_type": "markdown",
      "source": [
        "**Volume of a Sphere**"
      ],
      "metadata": {
        "id": "9E1YL4I_385F"
      }
    },
    {
      "cell_type": "code",
      "source": [
        "r = 25\n",
        "v = 4/3*3.14*r*r*r\n",
        "print(v)"
      ],
      "metadata": {
        "colab": {
          "base_uri": "https://localhost:8080/"
        },
        "id": "GXadBEET4L4B",
        "outputId": "2b6df79e-9b45-4ba0-a15f-b8118c883395"
      },
      "execution_count": null,
      "outputs": [
        {
          "output_type": "stream",
          "name": "stdout",
          "text": [
            "65416.666666666664\n"
          ]
        }
      ]
    },
    {
      "cell_type": "markdown",
      "source": [
        "**Area of square**"
      ],
      "metadata": {
        "id": "mrJ6iKcA4Vvp"
      }
    },
    {
      "cell_type": "code",
      "source": [
        " a = 23\n",
        " Area = a*a\n",
        " print(Area)"
      ],
      "metadata": {
        "colab": {
          "base_uri": "https://localhost:8080/"
        },
        "id": "hClSM-LxM3Qm",
        "outputId": "650bd3b5-2642-407b-8672-8be51bb62f16"
      },
      "execution_count": null,
      "outputs": [
        {
          "output_type": "stream",
          "name": "stdout",
          "text": [
            "529\n"
          ]
        }
      ]
    },
    {
      "cell_type": "markdown",
      "source": [
        "**Perimetre of a rectangle**"
      ],
      "metadata": {
        "id": "gHsqGQY2NW2K"
      }
    },
    {
      "cell_type": "code",
      "source": [
        "l = 10\n",
        "b = 20\n",
        "p = 2*(l+b)\n",
        "print(p)"
      ],
      "metadata": {
        "colab": {
          "base_uri": "https://localhost:8080/"
        },
        "id": "5a4CEnS14XAU",
        "outputId": "c7ccec29-fcd0-48fa-e1e0-233835b752ef"
      },
      "execution_count": null,
      "outputs": [
        {
          "output_type": "stream",
          "name": "stdout",
          "text": [
            "60\n"
          ]
        }
      ]
    },
    {
      "cell_type": "markdown",
      "source": [
        "**Perimeter of a square**"
      ],
      "metadata": {
        "id": "bA0X2t8sOLqj"
      }
    },
    {
      "cell_type": "code",
      "source": [
        "l = 10\n",
        "p = 4*l\n",
        "print(p)"
      ],
      "metadata": {
        "colab": {
          "base_uri": "https://localhost:8080/"
        },
        "id": "Ulj0XVXTORVn",
        "outputId": "054c7ded-1d8c-4239-886b-e1b388e3cfc4"
      },
      "execution_count": null,
      "outputs": [
        {
          "output_type": "stream",
          "name": "stdout",
          "text": [
            "40\n"
          ]
        }
      ]
    },
    {
      "cell_type": "markdown",
      "source": [
        "**To calculate velocity**"
      ],
      "metadata": {
        "id": "0aWJWI5NPXrg"
      }
    },
    {
      "cell_type": "code",
      "source": [
        "d = 100\n",
        "t = 2\n",
        "v = d/t\n",
        "print(v)"
      ],
      "metadata": {
        "colab": {
          "base_uri": "https://localhost:8080/"
        },
        "id": "Mhp48s0bPaUN",
        "outputId": "e67e8901-6e05-4bfc-87f5-f16690eba328"
      },
      "execution_count": null,
      "outputs": [
        {
          "output_type": "stream",
          "name": "stdout",
          "text": [
            "50.0\n"
          ]
        }
      ]
    },
    {
      "cell_type": "markdown",
      "source": [
        "**Slope of a line**"
      ],
      "metadata": {
        "id": "VXDRISy2QLe8"
      }
    },
    {
      "cell_type": "code",
      "source": [
        "y1 = 10\n",
        "y2 = 20\n",
        "x2 = 10\n",
        "x1 = 20\n",
        "s = y2-y1/x2-x1\n",
        "print(s)"
      ],
      "metadata": {
        "colab": {
          "base_uri": "https://localhost:8080/"
        },
        "id": "ZWIDVtTRQPjb",
        "outputId": "36b4eea1-e1f8-4e6f-dbdd-3520f0f90ef8"
      },
      "execution_count": null,
      "outputs": [
        {
          "output_type": "stream",
          "name": "stdout",
          "text": [
            "-1.0\n"
          ]
        }
      ]
    },
    {
      "cell_type": "markdown",
      "source": [
        "**Mean of a data set**"
      ],
      "metadata": {
        "id": "dWGWjav5Q4z4"
      }
    },
    {
      "cell_type": "code",
      "source": [
        "s = (10+20+30+40+50)/5\n",
        "print(s)"
      ],
      "metadata": {
        "colab": {
          "base_uri": "https://localhost:8080/"
        },
        "id": "p6Hq-kldQ8zK",
        "outputId": "831c0ac7-68ca-4dd8-9026-2a2fbc9e290a"
      },
      "execution_count": null,
      "outputs": [
        {
          "output_type": "stream",
          "name": "stdout",
          "text": [
            "30.0\n"
          ]
        }
      ]
    },
    {
      "cell_type": "markdown",
      "source": [
        "**Varaiance of a data set**"
      ],
      "metadata": {
        "id": "xRnv-bevRqLo"
      }
    },
    {
      "cell_type": "code",
      "source": [
        "v = ((10-30)**2+(20-30)**2+(30-30)**2+(40-30)**2+(50-30)**2)/5\n",
        "print(v)"
      ],
      "metadata": {
        "colab": {
          "base_uri": "https://localhost:8080/"
        },
        "id": "MgueXYw9RuHb",
        "outputId": "a3052c89-cd42-46cb-a719-9ee847f3d5be"
      },
      "execution_count": null,
      "outputs": [
        {
          "output_type": "stream",
          "name": "stdout",
          "text": [
            "200.0\n"
          ]
        }
      ]
    },
    {
      "cell_type": "markdown",
      "source": [
        "**Standard deviation of a data set**"
      ],
      "metadata": {
        "id": "0fHrAADpR7Mq"
      }
    },
    {
      "cell_type": "code",
      "source": [
        "sd = v**0.5\n",
        "print(sd)"
      ],
      "metadata": {
        "colab": {
          "base_uri": "https://localhost:8080/"
        },
        "id": "iK9lbRUGR_32",
        "outputId": "c033288f-006b-4d55-d73c-1ca77bdf7279"
      },
      "execution_count": null,
      "outputs": [
        {
          "output_type": "stream",
          "name": "stdout",
          "text": [
            "14.142135623730951\n"
          ]
        }
      ]
    },
    {
      "cell_type": "markdown",
      "source": [
        "**Potential energy**"
      ],
      "metadata": {
        "id": "BP2qeotoVqcf"
      }
    },
    {
      "cell_type": "code",
      "source": [
        "m = 10\n",
        "g = 9.8\n",
        "h = 20\n",
        "p = m*g*h\n",
        "print(p)"
      ],
      "metadata": {
        "colab": {
          "base_uri": "https://localhost:8080/"
        },
        "id": "vIvjfD0mVut2",
        "outputId": "7df78359-b54f-4540-a76f-32171300c889"
      },
      "execution_count": null,
      "outputs": [
        {
          "output_type": "stream",
          "name": "stdout",
          "text": [
            "1960.0\n"
          ]
        }
      ]
    },
    {
      "cell_type": "markdown",
      "source": [
        "**Kinetic energy**"
      ],
      "metadata": {
        "id": "ce6rv39dWiEf"
      }
    },
    {
      "cell_type": "code",
      "source": [
        "m = 10\n",
        "v = 20\n",
        "k = 0.5*m*v*v\n",
        "print(k)"
      ],
      "metadata": {
        "colab": {
          "base_uri": "https://localhost:8080/"
        },
        "id": "FxWXlmTYWmm-",
        "outputId": "f305b5f4-a536-41f8-cc58-e9cf880dbab5"
      },
      "execution_count": null,
      "outputs": [
        {
          "output_type": "stream",
          "name": "stdout",
          "text": [
            "2000.0\n"
          ]
        }
      ]
    },
    {
      "cell_type": "markdown",
      "source": [
        "**Wave speed**\n",
        "frequency"
      ],
      "metadata": {
        "id": "twL6kORHW8ir"
      }
    },
    {
      "cell_type": "code",
      "source": [
        "f = 10\n",
        "c = 3*10**8\n",
        "w = f*c\n",
        "print(w)"
      ],
      "metadata": {
        "colab": {
          "base_uri": "https://localhost:8080/"
        },
        "id": "vbstTkTIXAKD",
        "outputId": "13913fda-09e9-4bcf-9dab-223dc199a45e"
      },
      "execution_count": null,
      "outputs": [
        {
          "output_type": "stream",
          "name": "stdout",
          "text": [
            "3000000000\n"
          ]
        }
      ]
    }
  ]
}