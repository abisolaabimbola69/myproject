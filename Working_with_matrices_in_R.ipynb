{
  "cells": [
    {
      "cell_type": "markdown",
      "metadata": {
        "id": "view-in-github",
        "colab_type": "text"
      },
      "source": [
        "<a href=\"https://colab.research.google.com/github/abisolaabimbola69/myproject/blob/main/Working_with_matrices_in_R.ipynb\" target=\"_parent\"><img src=\"https://colab.research.google.com/assets/colab-badge.svg\" alt=\"Open In Colab\"/></a>"
      ]
    },
    {
      "cell_type": "code",
      "execution_count": null,
      "metadata": {
        "colab": {
          "background_save": true,
          "base_uri": "https://localhost:8080/"
        },
        "id": "lKT7w1jt5x6l",
        "outputId": "40e28bd6-2363-484b-b32e-ecb85fea4c79"
      },
      "outputs": [
        {
          "name": "stdout",
          "output_type": "stream",
          "text": [
            "     [,1] [,2]\n",
            "[1,]   13   32\n",
            "[2,]   -4   -4\n"
          ]
        }
      ],
      "source": [
        "A = matrix(c(20,5,40,6),ncol=2)\n",
        "B = matrix(c(7,9,8,10),ncol=2)\n",
        "C = A - B\n",
        "print(C)"
      ]
    },
    {
      "cell_type": "code",
      "execution_count": null,
      "metadata": {
        "colab": {
          "background_save": true,
          "base_uri": "https://localhost:8080/"
        },
        "id": "THLlgVQL7kmq",
        "outputId": "f2467121-f2b4-423d-f7a1-e37a279f1d1a"
      },
      "outputs": [
        {
          "name": "stdout",
          "output_type": "stream",
          "text": [
            "     [,1] [,2] [,3]\n",
            "[1,]    7    9    9\n",
            "[2,]    7   11    2\n",
            "[3,]    7   11    8\n"
          ]
        }
      ],
      "source": [
        "D <- A+B\n",
        "print(D)"
      ]
    },
    {
      "cell_type": "code",
      "execution_count": null,
      "metadata": {
        "colab": {
          "background_save": true,
          "base_uri": "https://localhost:8080/"
        },
        "id": "OZMpvEfg7v4H",
        "outputId": "ba684c38-ac83-4cf4-96e6-a750b2bb18c7"
      },
      "outputs": [
        {
          "name": "stdout",
          "output_type": "stream",
          "text": [
            "     [,1] [,2] [,3]\n",
            "[1,]   18   23   57\n",
            "[2,]   21   24   60\n",
            "[3,]   24   32   84\n"
          ]
        }
      ],
      "source": [
        "E <- A%*%B\n",
        "print(E)"
      ]
    },
    {
      "cell_type": "code",
      "execution_count": null,
      "metadata": {
        "colab": {
          "background_save": true,
          "base_uri": "https://localhost:8080/"
        },
        "id": "uFdJjK6w8tpK",
        "outputId": "3b55156e-e5ad-42e8-ad92-448b69e97c98"
      },
      "outputs": [
        {
          "name": "stdout",
          "output_type": "stream",
          "text": [
            "     [,1] [,2] [,3]\n",
            "[1,]    2    3  -12\n",
            "[2,]    3    2  -10\n",
            "[3,]    4    3   -7\n"
          ]
        }
      ],
      "source": [
        "A <- matrix(c(5,6,7,8,9,10,2,0,5),ncol=3)\n",
        "B <- matrix(c(2,1,0,1,2,1,7,2,3),ncol=3)\n",
        "C <- matrix(1:9,ncol=3)\n",
        "E <- A - B - C\n",
        "print(E)\n"
      ]
    },
    {
      "cell_type": "code",
      "execution_count": null,
      "metadata": {
        "colab": {
          "background_save": true,
          "base_uri": "https://localhost:8080/"
        },
        "id": "rjhD11Du-via",
        "outputId": "8db01585-c167-4ac1-e12a-4639f1e71b04"
      },
      "outputs": [
        {
          "name": "stdout",
          "output_type": "stream",
          "text": [
            "     [,1] [,2]\n",
            "[1,]  460  580\n",
            "[2,]   83  105\n"
          ]
        }
      ],
      "source": [
        "G <- A%*%B\n",
        "print(G)"
      ]
    },
    {
      "cell_type": "code",
      "execution_count": null,
      "metadata": {
        "colab": {
          "background_save": true
        },
        "id": "hrnIHF0CN51Z"
      },
      "outputs": [],
      "source": []
    },
    {
      "cell_type": "code",
      "execution_count": null,
      "metadata": {
        "colab": {
          "background_save": true
        },
        "id": "qUM-ox_wBQ5m",
        "outputId": "0e99eaa0-7f78-4a3c-f0fd-4959fb6d0312"
      },
      "outputs": [
        {
          "name": "stdout",
          "output_type": "stream",
          "text": [
            "[1] -80\n"
          ]
        }
      ],
      "source": [
        "A <- matrix(c(20,5,40,6),ncol=2)\n",
        "PP <-det(A)\n",
        "print(PP)"
      ]
    },
    {
      "cell_type": "code",
      "execution_count": null,
      "metadata": {
        "colab": {
          "background_save": true
        },
        "id": "Z7pGIyBkBs-b",
        "outputId": "3c3f485c-4ffb-4a95-cb85-53e41cff07d9"
      },
      "outputs": [
        {
          "name": "stdout",
          "output_type": "stream",
          "text": [
            "[1] -2\n"
          ]
        }
      ],
      "source": [
        "B = matrix(c(7,8,9,10),ncol=2)\n",
        "PP <- det(B)\n",
        "print(PP)"
      ]
    },
    {
      "cell_type": "markdown",
      "metadata": {
        "id": "zvM2UvMuDPhU"
      },
      "source": [
        "Assignment\n",
        "\n",
        "1.   Do a 5 for A-D matrix where A = 1-25\n",
        "addition, subtraction, multiplication, division, det A-D\n",
        "2.   List item\n",
        "\n"
      ]
    }
  ],
  "metadata": {
    "colab": {
      "provenance": [],
      "authorship_tag": "ABX9TyPfpPG2EZgxsQ3+5ekI4JfG",
      "include_colab_link": true
    },
    "kernelspec": {
      "display_name": "R",
      "name": "ir"
    },
    "language_info": {
      "name": "R"
    }
  },
  "nbformat": 4,
  "nbformat_minor": 0
}