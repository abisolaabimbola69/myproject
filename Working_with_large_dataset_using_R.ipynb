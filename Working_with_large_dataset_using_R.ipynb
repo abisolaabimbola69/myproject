{
  "nbformat": 4,
  "nbformat_minor": 0,
  "metadata": {
    "colab": {
      "provenance": [],
      "authorship_tag": "ABX9TyMbGprtoq58ui1Cwdu5yskS",
      "include_colab_link": true
    },
    "kernelspec": {
      "name": "ir",
      "display_name": "R"
    },
    "language_info": {
      "name": "R"
    }
  },
  "cells": [
    {
      "cell_type": "markdown",
      "metadata": {
        "id": "view-in-github",
        "colab_type": "text"
      },
      "source": [
        "<a href=\"https://colab.research.google.com/github/abisolaabimbola69/myproject/blob/main/Working_with_large_dataset_using_R.ipynb\" target=\"_parent\"><img src=\"https://colab.research.google.com/assets/colab-badge.svg\" alt=\"Open In Colab\"/></a>"
      ]
    },
    {
      "cell_type": "code",
      "execution_count": null,
      "metadata": {
        "colab": {
          "base_uri": "https://localhost:8080/"
        },
        "id": "IIn7PrdLgbl-",
        "outputId": "0265bc96-d034-4baf-edb8-b7badf358865"
      },
      "outputs": [
        {
          "output_type": "stream",
          "name": "stdout",
          "text": [
            "     [,1] [,2]\n",
            "[1,]   20   40\n",
            "[2,]    5    6\n",
            "        [,1]  [,2]\n",
            "[1,] -0.0750  0.50\n",
            "[2,]  0.0625 -0.25\n"
          ]
        }
      ],
      "source": [
        "A <- matrix(c(20,5,40,6),ncol=2)\n",
        "print(A)\n",
        "C <-t(A)\n",
        "Ainverse <- solve(A)\n",
        "print(Ainverse)"
      ]
    },
    {
      "cell_type": "code",
      "source": [
        "B <- eigen(A)\n",
        "print(B$value)"
      ],
      "metadata": {
        "colab": {
          "base_uri": "https://localhost:8080/"
        },
        "id": "ob5uSlMBiO1o",
        "outputId": "d5f4d5fd-da05-4655-c64b-36a2007637a3"
      },
      "execution_count": null,
      "outputs": [
        {
          "output_type": "stream",
          "name": "stdout",
          "text": [
            "[1] 28.779734 -2.779734\n"
          ]
        }
      ]
    },
    {
      "cell_type": "code",
      "source": [
        "print(B$vector)"
      ],
      "metadata": {
        "colab": {
          "base_uri": "https://localhost:8080/"
        },
        "id": "9KzLaF3zi2Jk",
        "outputId": "92cee8fb-9dc4-48a1-bb1a-24c6f8bea4f3"
      },
      "execution_count": null,
      "outputs": [
        {
          "output_type": "stream",
          "name": "stdout",
          "text": [
            "          [,1]       [,2]\n",
            "[1,] 0.9767482 -0.8689666\n",
            "[2,] 0.2143897  0.4948707\n"
          ]
        }
      ]
    },
    {
      "cell_type": "code",
      "source": [
        "A<- matrix(c(5,6,7,8,9,10,2,0,5),ncol=3)\n",
        "print(A)\n",
        "B <- eigen(A)\n",
        "print(B$vector)\n",
        "Ainverse <- solve(A)\n",
        "print(Ainverse)"
      ],
      "metadata": {
        "colab": {
          "base_uri": "https://localhost:8080/"
        },
        "id": "JYpaLjAOppR7",
        "outputId": "d6e1c9dd-7378-4b5b-a3d5-6569a5a80761"
      },
      "execution_count": null,
      "outputs": [
        {
          "output_type": "stream",
          "name": "stdout",
          "text": [
            "     [,1] [,2] [,3]\n",
            "[1,]    5    8    2\n",
            "[2,]    6    9    0\n",
            "[3,]    7   10    5\n",
            "           [,1]       [,2]        [,3]\n",
            "[1,] -0.4849827  0.2284166 -0.83812358\n",
            "[2,] -0.4482837 -0.2666343  0.53776465\n",
            "[3,] -0.7508885  0.9363397  0.09142233\n",
            "           [,1]       [,2]       [,3]\n",
            "[1,] -2.1428571  0.9523810  0.8571429\n",
            "[2,]  1.4285714 -0.5238095 -0.5714286\n",
            "[3,]  0.1428571 -0.2857143  0.1428571\n"
          ]
        }
      ]
    },
    {
      "cell_type": "markdown",
      "source": [
        "To transpose"
      ],
      "metadata": {
        "id": "vp8S2MVQpvpD"
      }
    },
    {
      "cell_type": "code",
      "source": [
        "C <-t(A)\n",
        "print(C)"
      ],
      "metadata": {
        "colab": {
          "base_uri": "https://localhost:8080/"
        },
        "id": "b2EsIn6mpt46",
        "outputId": "50a27f3a-cedc-4bfc-cc69-5698fdbee5e1"
      },
      "execution_count": null,
      "outputs": [
        {
          "output_type": "stream",
          "name": "stdout",
          "text": [
            "     [,1] [,2] [,3]\n",
            "[1,]    5    6    7\n",
            "[2,]    8    9   10\n",
            "[3,]    2    0    5\n"
          ]
        }
      ]
    },
    {
      "cell_type": "markdown",
      "source": [
        "TO call a table"
      ],
      "metadata": {
        "id": "fzTOblK8rXR5"
      }
    },
    {
      "cell_type": "code",
      "source": [
        "read.table(\"\")"
      ],
      "metadata": {
        "id": "iFdwSODtrbff"
      },
      "execution_count": null,
      "outputs": []
    }
  ]
}